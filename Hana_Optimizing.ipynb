{
  "nbformat": 4,
  "nbformat_minor": 0,
  "metadata": {
    "colab": {
      "provenance": [],
      "authorship_tag": "ABX9TyPBaULDM1SoTzQn3JfJJP5+",
      "include_colab_link": true
    },
    "kernelspec": {
      "name": "python3",
      "display_name": "Python 3"
    },
    "language_info": {
      "name": "python"
    }
  },
  "cells": [
    {
      "cell_type": "markdown",
      "metadata": {
        "id": "view-in-github",
        "colab_type": "text"
      },
      "source": [
        "<a href=\"https://colab.research.google.com/github/Hangelinika/Hangelinika/blob/main/Hana_Optimizing.ipynb\" target=\"_parent\"><img src=\"https://colab.research.google.com/assets/colab-badge.svg\" alt=\"Open In Colab\"/></a>"
      ]
    },
    {
      "cell_type": "code",
      "execution_count": null,
      "metadata": {
        "id": "UkuUQsKROd3O"
      },
      "outputs": [],
      "source": [
        "# Import all that we will need"
      ]
    },
    {
      "cell_type": "code",
      "source": [
        "import pandas as pd\n",
        "from sklearn.tree import DecisionTreeClassifier, export_text\n",
        "from sklearn.model_selection import train_test_split\n",
        "import matplotlib.pyplot as plt"
      ],
      "metadata": {
        "id": "llScJbEKPFps"
      },
      "execution_count": null,
      "outputs": []
    },
    {
      "cell_type": "code",
      "source": [
        "# Read data from Excel\n",
        "df = pd.read_excel(\"CASE STUDY - data.xlsx\")"
      ],
      "metadata": {
        "id": "ZLrQvreIPSVD"
      },
      "execution_count": null,
      "outputs": []
    },
    {
      "cell_type": "code",
      "source": [
        "# Look at the data\n",
        "df.head()"
      ],
      "metadata": {
        "colab": {
          "base_uri": "https://localhost:8080/",
          "height": 348
        },
        "id": "XHnoZwZIPoAa",
        "outputId": "e34c6fcf-509e-41af-f9ec-830719043ec1"
      },
      "execution_count": null,
      "outputs": [
        {
          "output_type": "execute_result",
          "data": {
            "text/plain": [
              "   CODE_ZIP  AMT_NET_INCOME  AMT_REQUESTED_TICKET  \\\n",
              "0     18100           22000                  8000   \n",
              "1     79501           28000                 10000   \n",
              "2     69661           10800                  1000   \n",
              "3     43111           10000                  6000   \n",
              "4     74201           32000                  8000   \n",
              "\n",
              "                             TEXT_BANK  NUM_AGE TEXT_GENDER  \\\n",
              "0               Česká spořitelna, a.s.       37         Muž   \n",
              "1                 Komerční banka, a.s.       58         Muž   \n",
              "2  Československá obchodní banka, a.s.       32         Muž   \n",
              "3  Československá obchodní banka, a.s.       24        Žena   \n",
              "4               Česká spořitelna, a.s.       34         Muž   \n",
              "\n",
              "   NFLAG_MOBILEDEVICE  CODE_IP_1  NUM_LEVEN_EMAIL  NFLAG_EMAIL_NUMERAL  \\\n",
              "0                   0        178               40                    0   \n",
              "1                   0         85               88                    0   \n",
              "2                   1        131               16                    0   \n",
              "3                   1         78               50                    1   \n",
              "4                   1        109               92                    0   \n",
              "\n",
              "   CNT_REJECTED  NUM_DAYS_CREDIT_HISTORY  TARGET  \n",
              "0             1                      450       0  \n",
              "1             1                     7100       0  \n",
              "2             1                      750       0  \n",
              "3             1                        0       0  \n",
              "4             1                     1950       0  "
            ],
            "text/html": [
              "\n",
              "  <div id=\"df-ea9f1b15-2d8b-40c7-99b0-5840693150e4\" class=\"colab-df-container\">\n",
              "    <div>\n",
              "<style scoped>\n",
              "    .dataframe tbody tr th:only-of-type {\n",
              "        vertical-align: middle;\n",
              "    }\n",
              "\n",
              "    .dataframe tbody tr th {\n",
              "        vertical-align: top;\n",
              "    }\n",
              "\n",
              "    .dataframe thead th {\n",
              "        text-align: right;\n",
              "    }\n",
              "</style>\n",
              "<table border=\"1\" class=\"dataframe\">\n",
              "  <thead>\n",
              "    <tr style=\"text-align: right;\">\n",
              "      <th></th>\n",
              "      <th>CODE_ZIP</th>\n",
              "      <th>AMT_NET_INCOME</th>\n",
              "      <th>AMT_REQUESTED_TICKET</th>\n",
              "      <th>TEXT_BANK</th>\n",
              "      <th>NUM_AGE</th>\n",
              "      <th>TEXT_GENDER</th>\n",
              "      <th>NFLAG_MOBILEDEVICE</th>\n",
              "      <th>CODE_IP_1</th>\n",
              "      <th>NUM_LEVEN_EMAIL</th>\n",
              "      <th>NFLAG_EMAIL_NUMERAL</th>\n",
              "      <th>CNT_REJECTED</th>\n",
              "      <th>NUM_DAYS_CREDIT_HISTORY</th>\n",
              "      <th>TARGET</th>\n",
              "    </tr>\n",
              "  </thead>\n",
              "  <tbody>\n",
              "    <tr>\n",
              "      <th>0</th>\n",
              "      <td>18100</td>\n",
              "      <td>22000</td>\n",
              "      <td>8000</td>\n",
              "      <td>Česká spořitelna, a.s.</td>\n",
              "      <td>37</td>\n",
              "      <td>Muž</td>\n",
              "      <td>0</td>\n",
              "      <td>178</td>\n",
              "      <td>40</td>\n",
              "      <td>0</td>\n",
              "      <td>1</td>\n",
              "      <td>450</td>\n",
              "      <td>0</td>\n",
              "    </tr>\n",
              "    <tr>\n",
              "      <th>1</th>\n",
              "      <td>79501</td>\n",
              "      <td>28000</td>\n",
              "      <td>10000</td>\n",
              "      <td>Komerční banka, a.s.</td>\n",
              "      <td>58</td>\n",
              "      <td>Muž</td>\n",
              "      <td>0</td>\n",
              "      <td>85</td>\n",
              "      <td>88</td>\n",
              "      <td>0</td>\n",
              "      <td>1</td>\n",
              "      <td>7100</td>\n",
              "      <td>0</td>\n",
              "    </tr>\n",
              "    <tr>\n",
              "      <th>2</th>\n",
              "      <td>69661</td>\n",
              "      <td>10800</td>\n",
              "      <td>1000</td>\n",
              "      <td>Československá obchodní banka, a.s.</td>\n",
              "      <td>32</td>\n",
              "      <td>Muž</td>\n",
              "      <td>1</td>\n",
              "      <td>131</td>\n",
              "      <td>16</td>\n",
              "      <td>0</td>\n",
              "      <td>1</td>\n",
              "      <td>750</td>\n",
              "      <td>0</td>\n",
              "    </tr>\n",
              "    <tr>\n",
              "      <th>3</th>\n",
              "      <td>43111</td>\n",
              "      <td>10000</td>\n",
              "      <td>6000</td>\n",
              "      <td>Československá obchodní banka, a.s.</td>\n",
              "      <td>24</td>\n",
              "      <td>Žena</td>\n",
              "      <td>1</td>\n",
              "      <td>78</td>\n",
              "      <td>50</td>\n",
              "      <td>1</td>\n",
              "      <td>1</td>\n",
              "      <td>0</td>\n",
              "      <td>0</td>\n",
              "    </tr>\n",
              "    <tr>\n",
              "      <th>4</th>\n",
              "      <td>74201</td>\n",
              "      <td>32000</td>\n",
              "      <td>8000</td>\n",
              "      <td>Česká spořitelna, a.s.</td>\n",
              "      <td>34</td>\n",
              "      <td>Muž</td>\n",
              "      <td>1</td>\n",
              "      <td>109</td>\n",
              "      <td>92</td>\n",
              "      <td>0</td>\n",
              "      <td>1</td>\n",
              "      <td>1950</td>\n",
              "      <td>0</td>\n",
              "    </tr>\n",
              "  </tbody>\n",
              "</table>\n",
              "</div>\n",
              "    <div class=\"colab-df-buttons\">\n",
              "\n",
              "  <div class=\"colab-df-container\">\n",
              "    <button class=\"colab-df-convert\" onclick=\"convertToInteractive('df-ea9f1b15-2d8b-40c7-99b0-5840693150e4')\"\n",
              "            title=\"Convert this dataframe to an interactive table.\"\n",
              "            style=\"display:none;\">\n",
              "\n",
              "  <svg xmlns=\"http://www.w3.org/2000/svg\" height=\"24px\" viewBox=\"0 -960 960 960\">\n",
              "    <path d=\"M120-120v-720h720v720H120Zm60-500h600v-160H180v160Zm220 220h160v-160H400v160Zm0 220h160v-160H400v160ZM180-400h160v-160H180v160Zm440 0h160v-160H620v160ZM180-180h160v-160H180v160Zm440 0h160v-160H620v160Z\"/>\n",
              "  </svg>\n",
              "    </button>\n",
              "\n",
              "  <style>\n",
              "    .colab-df-container {\n",
              "      display:flex;\n",
              "      gap: 12px;\n",
              "    }\n",
              "\n",
              "    .colab-df-convert {\n",
              "      background-color: #E8F0FE;\n",
              "      border: none;\n",
              "      border-radius: 50%;\n",
              "      cursor: pointer;\n",
              "      display: none;\n",
              "      fill: #1967D2;\n",
              "      height: 32px;\n",
              "      padding: 0 0 0 0;\n",
              "      width: 32px;\n",
              "    }\n",
              "\n",
              "    .colab-df-convert:hover {\n",
              "      background-color: #E2EBFA;\n",
              "      box-shadow: 0px 1px 2px rgba(60, 64, 67, 0.3), 0px 1px 3px 1px rgba(60, 64, 67, 0.15);\n",
              "      fill: #174EA6;\n",
              "    }\n",
              "\n",
              "    .colab-df-buttons div {\n",
              "      margin-bottom: 4px;\n",
              "    }\n",
              "\n",
              "    [theme=dark] .colab-df-convert {\n",
              "      background-color: #3B4455;\n",
              "      fill: #D2E3FC;\n",
              "    }\n",
              "\n",
              "    [theme=dark] .colab-df-convert:hover {\n",
              "      background-color: #434B5C;\n",
              "      box-shadow: 0px 1px 3px 1px rgba(0, 0, 0, 0.15);\n",
              "      filter: drop-shadow(0px 1px 2px rgba(0, 0, 0, 0.3));\n",
              "      fill: #FFFFFF;\n",
              "    }\n",
              "  </style>\n",
              "\n",
              "    <script>\n",
              "      const buttonEl =\n",
              "        document.querySelector('#df-ea9f1b15-2d8b-40c7-99b0-5840693150e4 button.colab-df-convert');\n",
              "      buttonEl.style.display =\n",
              "        google.colab.kernel.accessAllowed ? 'block' : 'none';\n",
              "\n",
              "      async function convertToInteractive(key) {\n",
              "        const element = document.querySelector('#df-ea9f1b15-2d8b-40c7-99b0-5840693150e4');\n",
              "        const dataTable =\n",
              "          await google.colab.kernel.invokeFunction('convertToInteractive',\n",
              "                                                    [key], {});\n",
              "        if (!dataTable) return;\n",
              "\n",
              "        const docLinkHtml = 'Like what you see? Visit the ' +\n",
              "          '<a target=\"_blank\" href=https://colab.research.google.com/notebooks/data_table.ipynb>data table notebook</a>'\n",
              "          + ' to learn more about interactive tables.';\n",
              "        element.innerHTML = '';\n",
              "        dataTable['output_type'] = 'display_data';\n",
              "        await google.colab.output.renderOutput(dataTable, element);\n",
              "        const docLink = document.createElement('div');\n",
              "        docLink.innerHTML = docLinkHtml;\n",
              "        element.appendChild(docLink);\n",
              "      }\n",
              "    </script>\n",
              "  </div>\n",
              "\n",
              "\n",
              "    <div id=\"df-11bf22d6-0762-4548-8add-3d3d909ccc55\">\n",
              "      <button class=\"colab-df-quickchart\" onclick=\"quickchart('df-11bf22d6-0762-4548-8add-3d3d909ccc55')\"\n",
              "                title=\"Suggest charts\"\n",
              "                style=\"display:none;\">\n",
              "\n",
              "<svg xmlns=\"http://www.w3.org/2000/svg\" height=\"24px\"viewBox=\"0 0 24 24\"\n",
              "     width=\"24px\">\n",
              "    <g>\n",
              "        <path d=\"M19 3H5c-1.1 0-2 .9-2 2v14c0 1.1.9 2 2 2h14c1.1 0 2-.9 2-2V5c0-1.1-.9-2-2-2zM9 17H7v-7h2v7zm4 0h-2V7h2v10zm4 0h-2v-4h2v4z\"/>\n",
              "    </g>\n",
              "</svg>\n",
              "      </button>\n",
              "\n",
              "<style>\n",
              "  .colab-df-quickchart {\n",
              "      --bg-color: #E8F0FE;\n",
              "      --fill-color: #1967D2;\n",
              "      --hover-bg-color: #E2EBFA;\n",
              "      --hover-fill-color: #174EA6;\n",
              "      --disabled-fill-color: #AAA;\n",
              "      --disabled-bg-color: #DDD;\n",
              "  }\n",
              "\n",
              "  [theme=dark] .colab-df-quickchart {\n",
              "      --bg-color: #3B4455;\n",
              "      --fill-color: #D2E3FC;\n",
              "      --hover-bg-color: #434B5C;\n",
              "      --hover-fill-color: #FFFFFF;\n",
              "      --disabled-bg-color: #3B4455;\n",
              "      --disabled-fill-color: #666;\n",
              "  }\n",
              "\n",
              "  .colab-df-quickchart {\n",
              "    background-color: var(--bg-color);\n",
              "    border: none;\n",
              "    border-radius: 50%;\n",
              "    cursor: pointer;\n",
              "    display: none;\n",
              "    fill: var(--fill-color);\n",
              "    height: 32px;\n",
              "    padding: 0;\n",
              "    width: 32px;\n",
              "  }\n",
              "\n",
              "  .colab-df-quickchart:hover {\n",
              "    background-color: var(--hover-bg-color);\n",
              "    box-shadow: 0 1px 2px rgba(60, 64, 67, 0.3), 0 1px 3px 1px rgba(60, 64, 67, 0.15);\n",
              "    fill: var(--button-hover-fill-color);\n",
              "  }\n",
              "\n",
              "  .colab-df-quickchart-complete:disabled,\n",
              "  .colab-df-quickchart-complete:disabled:hover {\n",
              "    background-color: var(--disabled-bg-color);\n",
              "    fill: var(--disabled-fill-color);\n",
              "    box-shadow: none;\n",
              "  }\n",
              "\n",
              "  .colab-df-spinner {\n",
              "    border: 2px solid var(--fill-color);\n",
              "    border-color: transparent;\n",
              "    border-bottom-color: var(--fill-color);\n",
              "    animation:\n",
              "      spin 1s steps(1) infinite;\n",
              "  }\n",
              "\n",
              "  @keyframes spin {\n",
              "    0% {\n",
              "      border-color: transparent;\n",
              "      border-bottom-color: var(--fill-color);\n",
              "      border-left-color: var(--fill-color);\n",
              "    }\n",
              "    20% {\n",
              "      border-color: transparent;\n",
              "      border-left-color: var(--fill-color);\n",
              "      border-top-color: var(--fill-color);\n",
              "    }\n",
              "    30% {\n",
              "      border-color: transparent;\n",
              "      border-left-color: var(--fill-color);\n",
              "      border-top-color: var(--fill-color);\n",
              "      border-right-color: var(--fill-color);\n",
              "    }\n",
              "    40% {\n",
              "      border-color: transparent;\n",
              "      border-right-color: var(--fill-color);\n",
              "      border-top-color: var(--fill-color);\n",
              "    }\n",
              "    60% {\n",
              "      border-color: transparent;\n",
              "      border-right-color: var(--fill-color);\n",
              "    }\n",
              "    80% {\n",
              "      border-color: transparent;\n",
              "      border-right-color: var(--fill-color);\n",
              "      border-bottom-color: var(--fill-color);\n",
              "    }\n",
              "    90% {\n",
              "      border-color: transparent;\n",
              "      border-bottom-color: var(--fill-color);\n",
              "    }\n",
              "  }\n",
              "</style>\n",
              "\n",
              "      <script>\n",
              "        async function quickchart(key) {\n",
              "          const quickchartButtonEl =\n",
              "            document.querySelector('#' + key + ' button');\n",
              "          quickchartButtonEl.disabled = true;  // To prevent multiple clicks.\n",
              "          quickchartButtonEl.classList.add('colab-df-spinner');\n",
              "          try {\n",
              "            const charts = await google.colab.kernel.invokeFunction(\n",
              "                'suggestCharts', [key], {});\n",
              "          } catch (error) {\n",
              "            console.error('Error during call to suggestCharts:', error);\n",
              "          }\n",
              "          quickchartButtonEl.classList.remove('colab-df-spinner');\n",
              "          quickchartButtonEl.classList.add('colab-df-quickchart-complete');\n",
              "        }\n",
              "        (() => {\n",
              "          let quickchartButtonEl =\n",
              "            document.querySelector('#df-11bf22d6-0762-4548-8add-3d3d909ccc55 button');\n",
              "          quickchartButtonEl.style.display =\n",
              "            google.colab.kernel.accessAllowed ? 'block' : 'none';\n",
              "        })();\n",
              "      </script>\n",
              "    </div>\n",
              "\n",
              "    </div>\n",
              "  </div>\n"
            ],
            "application/vnd.google.colaboratory.intrinsic+json": {
              "type": "dataframe",
              "variable_name": "df",
              "summary": "{\n  \"name\": \"df\",\n  \"rows\": 5000,\n  \"fields\": [\n    {\n      \"column\": \"CODE_ZIP\",\n      \"properties\": {\n        \"dtype\": \"number\",\n        \"std\": 20460,\n        \"min\": 10000,\n        \"max\": 83924,\n        \"num_unique_values\": 1430,\n        \"samples\": [\n          50901,\n          50357,\n          75605\n        ],\n        \"semantic_type\": \"\",\n        \"description\": \"\"\n      }\n    },\n    {\n      \"column\": \"AMT_NET_INCOME\",\n      \"properties\": {\n        \"dtype\": \"number\",\n        \"std\": 268584,\n        \"min\": 3500,\n        \"max\": 19000600,\n        \"num_unique_values\": 441,\n        \"samples\": [\n          6911,\n          23700,\n          3500\n        ],\n        \"semantic_type\": \"\",\n        \"description\": \"\"\n      }\n    },\n    {\n      \"column\": \"AMT_REQUESTED_TICKET\",\n      \"properties\": {\n        \"dtype\": \"number\",\n        \"std\": 4532,\n        \"min\": 1000,\n        \"max\": 20000,\n        \"num_unique_values\": 16,\n        \"samples\": [\n          8000,\n          10000,\n          7000\n        ],\n        \"semantic_type\": \"\",\n        \"description\": \"\"\n      }\n    },\n    {\n      \"column\": \"TEXT_BANK\",\n      \"properties\": {\n        \"dtype\": \"category\",\n        \"num_unique_values\": 14,\n        \"samples\": [\n          \"mBank S.A., organiza\\u010dn\\u00ed slo\\u017eka\",\n          \"Waldviertler Sparkasse Bank AG\",\n          \"\\u010cesk\\u00e1 spo\\u0159itelna, a.s.\"\n        ],\n        \"semantic_type\": \"\",\n        \"description\": \"\"\n      }\n    },\n    {\n      \"column\": \"NUM_AGE\",\n      \"properties\": {\n        \"dtype\": \"number\",\n        \"std\": 10,\n        \"min\": 18,\n        \"max\": 84,\n        \"num_unique_values\": 62,\n        \"samples\": [\n          65,\n          63,\n          37\n        ],\n        \"semantic_type\": \"\",\n        \"description\": \"\"\n      }\n    },\n    {\n      \"column\": \"TEXT_GENDER\",\n      \"properties\": {\n        \"dtype\": \"category\",\n        \"num_unique_values\": 2,\n        \"samples\": [\n          \"\\u017dena\",\n          \"Mu\\u017e\"\n        ],\n        \"semantic_type\": \"\",\n        \"description\": \"\"\n      }\n    },\n    {\n      \"column\": \"NFLAG_MOBILEDEVICE\",\n      \"properties\": {\n        \"dtype\": \"number\",\n        \"std\": 0,\n        \"min\": 0,\n        \"max\": 1,\n        \"num_unique_values\": 2,\n        \"samples\": [\n          1,\n          0\n        ],\n        \"semantic_type\": \"\",\n        \"description\": \"\"\n      }\n    },\n    {\n      \"column\": \"CODE_IP_1\",\n      \"properties\": {\n        \"dtype\": \"number\",\n        \"std\": 59,\n        \"min\": 5,\n        \"max\": 217,\n        \"num_unique_values\": 61,\n        \"samples\": [\n          178,\n          86\n        ],\n        \"semantic_type\": \"\",\n        \"description\": \"\"\n      }\n    },\n    {\n      \"column\": \"NUM_LEVEN_EMAIL\",\n      \"properties\": {\n        \"dtype\": \"number\",\n        \"std\": 28,\n        \"min\": 0,\n        \"max\": 96,\n        \"num_unique_values\": 84,\n        \"samples\": [\n          83,\n          40\n        ],\n        \"semantic_type\": \"\",\n        \"description\": \"\"\n      }\n    },\n    {\n      \"column\": \"NFLAG_EMAIL_NUMERAL\",\n      \"properties\": {\n        \"dtype\": \"number\",\n        \"std\": 0,\n        \"min\": 0,\n        \"max\": 1,\n        \"num_unique_values\": 2,\n        \"samples\": [\n          1,\n          0\n        ],\n        \"semantic_type\": \"\",\n        \"description\": \"\"\n      }\n    },\n    {\n      \"column\": \"CNT_REJECTED\",\n      \"properties\": {\n        \"dtype\": \"number\",\n        \"std\": 0,\n        \"min\": 0,\n        \"max\": 20,\n        \"num_unique_values\": 17,\n        \"samples\": [\n          1,\n          3\n        ],\n        \"semantic_type\": \"\",\n        \"description\": \"\"\n      }\n    },\n    {\n      \"column\": \"NUM_DAYS_CREDIT_HISTORY\",\n      \"properties\": {\n        \"dtype\": \"number\",\n        \"std\": 2672,\n        \"min\": 0,\n        \"max\": 43700,\n        \"num_unique_values\": 143,\n        \"samples\": [\n          5550,\n          1600\n        ],\n        \"semantic_type\": \"\",\n        \"description\": \"\"\n      }\n    },\n    {\n      \"column\": \"TARGET\",\n      \"properties\": {\n        \"dtype\": \"number\",\n        \"std\": 0,\n        \"min\": 0,\n        \"max\": 1,\n        \"num_unique_values\": 2,\n        \"samples\": [\n          1,\n          0\n        ],\n        \"semantic_type\": \"\",\n        \"description\": \"\"\n      }\n    }\n  ]\n}"
            }
          },
          "metadata": {},
          "execution_count": 4
        }
      ]
    },
    {
      "cell_type": "code",
      "source": [
        "# Define X and Y if needed\n",
        "X = df[['CODE_IP_1','AMT_NET_INCOME','AMT_REQUESTED_TICKET','TEXT_BANK','NUM_AGE', 'TEXT_GENDER','CNT_REJECTED','NUM_DAYS_CREDIT_HISTORY']]\n",
        "Y = df['TARGET']\n"
      ],
      "metadata": {
        "id": "z5k-QJg1RbkV"
      },
      "execution_count": null,
      "outputs": []
    },
    {
      "cell_type": "markdown",
      "source": [
        "# **Otázky**\n",
        "Zkoumání a popis datového vzorku:\n",
        "***1. Jaký je nejvyšší věk žadatele?***\n",
        " Odpoveď: 84 let\n",
        "\n"
      ],
      "metadata": {
        "id": "g2M0sONEVPPU"
      }
    },
    {
      "cell_type": "code",
      "source": [
        "max_age = df['NUM_AGE'].max()\n",
        "print(max_age)"
      ],
      "metadata": {
        "colab": {
          "base_uri": "https://localhost:8080/"
        },
        "id": "lzcV4kqt527p",
        "outputId": "842fbd28-df5a-4fab-d127-d2cbbcf4eba6"
      },
      "execution_count": null,
      "outputs": [
        {
          "output_type": "stream",
          "name": "stdout",
          "text": [
            "84\n"
          ]
        }
      ]
    },
    {
      "cell_type": "markdown",
      "source": [
        "***2. Jaký je modus věku žadatele?*** Odpoveď: 20 let."
      ],
      "metadata": {
        "id": "E8plKgJP55Nb"
      }
    },
    {
      "cell_type": "markdown",
      "source": [],
      "metadata": {
        "id": "UgtS1RuUESf5"
      }
    },
    {
      "cell_type": "code",
      "source": [
        "mode_age = df['NUM_AGE'].mode()\n",
        "print(mode_age)\n"
      ],
      "metadata": {
        "colab": {
          "base_uri": "https://localhost:8080/"
        },
        "id": "WfysB-9nVyMA",
        "outputId": "6e215496-e5b3-4ff6-e29e-e209c39deece"
      },
      "execution_count": null,
      "outputs": [
        {
          "output_type": "stream",
          "name": "stdout",
          "text": [
            "0    20\n",
            "Name: NUM_AGE, dtype: int64\n"
          ]
        }
      ]
    },
    {
      "cell_type": "markdown",
      "source": [
        "***3. Jaký je průměrný příjem žadatele a jak se liší od průměru v ČR?***\n",
        "Odpověď: Průměrný příjem žadatele je 27 042 Kc, což jsou asi tři čtvrtiny průměrné čisté mzdy v ČR v prvním čtvrtletí 2025.\n"
      ],
      "metadata": {
        "id": "o_LBkzdV6Gmr"
      }
    },
    {
      "cell_type": "code",
      "source": [
        "average_income = df['AMT_NET_INCOME'].mean()\n",
        "print(average_income)\n"
      ],
      "metadata": {
        "colab": {
          "base_uri": "https://localhost:8080/"
        },
        "id": "p013_Gdp6Q5O",
        "outputId": "78c454cf-7412-4f55-dfad-94a181a40d95"
      },
      "execution_count": null,
      "outputs": [
        {
          "output_type": "stream",
          "name": "stdout",
          "text": [
            "27041.529\n"
          ]
        }
      ]
    },
    {
      "cell_type": "markdown",
      "source": [
        "4.6.2025 Q1\n",
        "from https://csu.gov.cz/employees-and-wages?pocet=10&start=0&1_pocet=10&1_start=0&skupiny=11&vlastnostiVystupu=15&pouzeVydane=true&razeni=-datumVydani&1_skupiny=11&1_vlastnostiVystupu=12&1_razeni=-datumVydani\n",
        "average_gross_income_CZ_2025 = 46,924\n",
        "minus 15 % dan z prijmu minus zdravotni a socialni pojisteni alespon 7%, tj. odecist 22% => average_net_income_CZ_2025 = 36600\n",
        "\n",
        "Compare with:\n",
        "2021 net data from WB https://data.worldbank.org/indicator/NY.ADJ.NNTY.PC.CD\n",
        "XE rate 10th August 2025\n",
        "averge_net_income_WB_data_2021 = 34,700\n",
        "\n"
      ],
      "metadata": {
        "id": "LB72s8mXwr6f"
      }
    },
    {
      "cell_type": "code",
      "source": [
        "average_net_income_CZ_2025 = [36600]\n"
      ],
      "metadata": {
        "id": "t6MIaIISw1LM"
      },
      "execution_count": null,
      "outputs": []
    },
    {
      "cell_type": "code",
      "source": [
        "AVG_BANK_INCOME_RELATED_TO_CZ_Income_2025 = average_income/average_net_income_CZ_2025"
      ],
      "metadata": {
        "id": "yT13K65C4k1w"
      },
      "execution_count": null,
      "outputs": []
    },
    {
      "cell_type": "code",
      "source": [
        "print(AVG_BANK_INCOME_RELATED_TO_CZ_Income_2025)"
      ],
      "metadata": {
        "colab": {
          "base_uri": "https://localhost:8080/"
        },
        "id": "eOhNSVKY4z63",
        "outputId": "1e26404e-5699-4cbd-828d-e5ab83c00b94"
      },
      "execution_count": null,
      "outputs": [
        {
          "output_type": "stream",
          "name": "stdout",
          "text": [
            "[0.73883959]\n"
          ]
        }
      ]
    },
    {
      "cell_type": "markdown",
      "source": [
        "***4. Ve kterých věkových skupinách (18-28, 29- 38, 39-48...) je více mužů než žen?***  Odpověď: Ve všech věkových kategoriích až do 49 let. Potom se poměr žen a mužů ve věkových kategoriích obrací, přičemž žen je více. Nicméně skupiny jsou mnohem méně početnější. Mohli bychom si to přeložit jako skutečnost, že v produktivním věku žádají o půjčky mnohem více muži."
      ],
      "metadata": {
        "id": "hrviojyZ6aZ2"
      }
    },
    {
      "cell_type": "code",
      "source": [
        "bins = [18, 28, 38, 48, 58, 68, 78, 88]\n",
        "labels = ['18-28','29-38','39-48', '49-58', '59-68', '69-78', '79-88']"
      ],
      "metadata": {
        "id": "_pg6ptTk74sA"
      },
      "execution_count": null,
      "outputs": []
    },
    {
      "cell_type": "code",
      "source": [
        "# Create new column with categories\n",
        "df['AgeCategory'] = pd.cut(df['NUM_AGE'], bins=bins, labels=labels, right=True, include_lowest=True)\n",
        "\n"
      ],
      "metadata": {
        "id": "drfBwep-Bi7m"
      },
      "execution_count": null,
      "outputs": []
    },
    {
      "cell_type": "code",
      "source": [],
      "metadata": {
        "colab": {
          "base_uri": "https://localhost:8080/"
        },
        "id": "80Ur_UdJ_CkH",
        "outputId": "af596f09-d3aa-4dc5-8198-ac278c71134d"
      },
      "execution_count": null,
      "outputs": [
        {
          "output_type": "stream",
          "name": "stdout",
          "text": [
            "      CODE_ZIP  AMT_NET_INCOME  AMT_REQUESTED_TICKET  \\\n",
            "0        18100           22000                  8000   \n",
            "1        79501           28000                 10000   \n",
            "2        69661           10800                  1000   \n",
            "3        43111           10000                  6000   \n",
            "4        74201           32000                  8000   \n",
            "...        ...             ...                   ...   \n",
            "4995     74743           13500                 15000   \n",
            "4996     69605           23700                  3000   \n",
            "4997     74706           50000                 15000   \n",
            "4998     28903            6000                  1000   \n",
            "4999     74253           20000                 15000   \n",
            "\n",
            "                                TEXT_BANK  NUM_AGE TEXT_GENDER  \\\n",
            "0                  Česká spořitelna, a.s.       37         Muž   \n",
            "1                    Komerční banka, a.s.       58         Muž   \n",
            "2     Československá obchodní banka, a.s.       32         Muž   \n",
            "3     Československá obchodní banka, a.s.       24        Žena   \n",
            "4                  Česká spořitelna, a.s.       34         Muž   \n",
            "...                                   ...      ...         ...   \n",
            "4995                       Equa bank a.s.       26        Žena   \n",
            "4996                      Fio banka, a.s.       26        Žena   \n",
            "4997                      Fio banka, a.s.       27         Muž   \n",
            "4998              MONETA Money Bank, a.s.       20        Žena   \n",
            "4999              MONETA Money Bank, a.s.       51        Žena   \n",
            "\n",
            "      NFLAG_MOBILEDEVICE  CODE_IP_1  NUM_LEVEN_EMAIL  NFLAG_EMAIL_NUMERAL  \\\n",
            "0                      0        178               40                    0   \n",
            "1                      0         85               88                    0   \n",
            "2                      1        131               16                    0   \n",
            "3                      1         78               50                    1   \n",
            "4                      1        109               92                    0   \n",
            "...                  ...        ...              ...                  ...   \n",
            "4995                   1         37               90                    1   \n",
            "4996                   1         37               93                    0   \n",
            "4997                   0        185               78                    1   \n",
            "4998                   1         37               36                    0   \n",
            "4999                   0        109               40                    0   \n",
            "\n",
            "      CNT_REJECTED  NUM_DAYS_CREDIT_HISTORY  TARGET AgeCategory  \n",
            "0                1                      450       0       29-38  \n",
            "1                1                     7100       0       49-58  \n",
            "2                1                      750       0       29-38  \n",
            "3                1                        0       0       18-28  \n",
            "4                1                     1950       0       29-38  \n",
            "...            ...                      ...     ...         ...  \n",
            "4995             1                      250       0       18-28  \n",
            "4996             1                      700       0       18-28  \n",
            "4997             1                      650       0       18-28  \n",
            "4998             1                        0       0       18-28  \n",
            "4999             1                     6450       0       49-58  \n",
            "\n",
            "[5000 rows x 14 columns]\n"
          ]
        }
      ]
    },
    {
      "cell_type": "code",
      "source": [
        "# Grouping by Age and Gender\n",
        "AgeGender = df.groupby(['AgeCategory', 'TEXT_GENDER']).size().reset_index(name='CustomerCount')\n",
        "\n",
        "print(AgeGender)"
      ],
      "metadata": {
        "colab": {
          "base_uri": "https://localhost:8080/"
        },
        "id": "AxJ7N54PcITr",
        "outputId": "0400df7b-9a1f-4f12-f727-6af2f2dbfcd0"
      },
      "execution_count": null,
      "outputs": [
        {
          "output_type": "stream",
          "name": "stdout",
          "text": [
            "   AgeCategory TEXT_GENDER  CustomerCount\n",
            "0        18-28         Muž           1663\n",
            "1        18-28        Žena           1091\n",
            "2        29-38         Muž            757\n",
            "3        29-38        Žena            485\n",
            "4        39-48         Muž            313\n",
            "5        39-48        Žena            311\n",
            "6        49-58         Muž            115\n",
            "7        49-58        Žena            120\n",
            "8        59-68         Muž             38\n",
            "9        59-68        Žena             60\n",
            "10       69-78         Muž             11\n",
            "11       69-78        Žena             33\n",
            "12       79-88         Muž              0\n",
            "13       79-88        Žena              3\n"
          ]
        },
        {
          "output_type": "stream",
          "name": "stderr",
          "text": [
            "/tmp/ipython-input-3971454716.py:2: FutureWarning: The default of observed=False is deprecated and will be changed to True in a future version of pandas. Pass observed=False to retain current behavior or observed=True to adopt the future default and silence this warning.\n",
            "  AgeGender = df.groupby(['AgeCategory', 'TEXT_GENDER']).size().reset_index(name='CustomerCount')\n"
          ]
        }
      ]
    },
    {
      "cell_type": "markdown",
      "source": [
        "Všechny kategorie do 48 let."
      ],
      "metadata": {
        "id": "nrojtRzZetze"
      }
    },
    {
      "cell_type": "markdown",
      "source": [
        "Analytika:\n",
        "***5. Ve které bance je největší target rate (tedy poměr počtu TARGET=1 na celku)? Odpovď: V České Spořitelně, kde celkový target dosahuje čísla 142.***"
      ],
      "metadata": {
        "id": "MHZNF56LfHF_"
      }
    },
    {
      "cell_type": "code",
      "source": [
        "# Create new Column a concatenation of several values to get unique ID\n",
        "df['UniqueID'] = df['CODE_ZIP'].astype(str) + '-' + df['TEXT_BANK'].astype(str) + '-' + df['NUM_AGE'].astype(str) + '-' + df['TEXT_GENDER'].astype(str)"
      ],
      "metadata": {
        "id": "pvE5HX9X91RF"
      },
      "execution_count": null,
      "outputs": []
    },
    {
      "cell_type": "code",
      "source": [
        "# Checking DF\n",
        "print(df)\n",
        "df.shape"
      ],
      "metadata": {
        "colab": {
          "base_uri": "https://localhost:8080/"
        },
        "id": "klQSuHq8CE9Q",
        "outputId": "c7e614d1-1f3d-4ffd-d867-8950feb65f06"
      },
      "execution_count": null,
      "outputs": [
        {
          "output_type": "stream",
          "name": "stdout",
          "text": [
            "      CODE_ZIP  AMT_NET_INCOME  AMT_REQUESTED_TICKET  \\\n",
            "0        18100           22000                  8000   \n",
            "1        79501           28000                 10000   \n",
            "2        69661           10800                  1000   \n",
            "3        43111           10000                  6000   \n",
            "4        74201           32000                  8000   \n",
            "...        ...             ...                   ...   \n",
            "4995     74743           13500                 15000   \n",
            "4996     69605           23700                  3000   \n",
            "4997     74706           50000                 15000   \n",
            "4998     28903            6000                  1000   \n",
            "4999     74253           20000                 15000   \n",
            "\n",
            "                                TEXT_BANK  NUM_AGE TEXT_GENDER  \\\n",
            "0                  Česká spořitelna, a.s.       37         Muž   \n",
            "1                    Komerční banka, a.s.       58         Muž   \n",
            "2     Československá obchodní banka, a.s.       32         Muž   \n",
            "3     Československá obchodní banka, a.s.       24        Žena   \n",
            "4                  Česká spořitelna, a.s.       34         Muž   \n",
            "...                                   ...      ...         ...   \n",
            "4995                       Equa bank a.s.       26        Žena   \n",
            "4996                      Fio banka, a.s.       26        Žena   \n",
            "4997                      Fio banka, a.s.       27         Muž   \n",
            "4998              MONETA Money Bank, a.s.       20        Žena   \n",
            "4999              MONETA Money Bank, a.s.       51        Žena   \n",
            "\n",
            "      NFLAG_MOBILEDEVICE  CODE_IP_1  NUM_LEVEN_EMAIL  NFLAG_EMAIL_NUMERAL  \\\n",
            "0                      0        178               40                    0   \n",
            "1                      0         85               88                    0   \n",
            "2                      1        131               16                    0   \n",
            "3                      1         78               50                    1   \n",
            "4                      1        109               92                    0   \n",
            "...                  ...        ...              ...                  ...   \n",
            "4995                   1         37               90                    1   \n",
            "4996                   1         37               93                    0   \n",
            "4997                   0        185               78                    1   \n",
            "4998                   1         37               36                    0   \n",
            "4999                   0        109               40                    0   \n",
            "\n",
            "      CNT_REJECTED  NUM_DAYS_CREDIT_HISTORY  TARGET AgeCategory  \\\n",
            "0                1                      450       0       29-38   \n",
            "1                1                     7100       0       49-58   \n",
            "2                1                      750       0       29-38   \n",
            "3                1                        0       0       18-28   \n",
            "4                1                     1950       0       29-38   \n",
            "...            ...                      ...     ...         ...   \n",
            "4995             1                      250       0       18-28   \n",
            "4996             1                      700       0       18-28   \n",
            "4997             1                      650       0       18-28   \n",
            "4998             1                        0       0       18-28   \n",
            "4999             1                     6450       0       49-58   \n",
            "\n",
            "                                               UniqueID  \n",
            "0                   18100-Česká spořitelna, a.s.-37-Muž  \n",
            "1                     79501-Komerční banka, a.s.-58-Muž  \n",
            "2      69661-Československá obchodní banka, a.s.-32-Muž  \n",
            "3     43111-Československá obchodní banka, a.s.-24-Žena  \n",
            "4                   74201-Česká spořitelna, a.s.-34-Muž  \n",
            "...                                                 ...  \n",
            "4995                       74743-Equa bank a.s.-26-Žena  \n",
            "4996                      69605-Fio banka, a.s.-26-Žena  \n",
            "4997                       74706-Fio banka, a.s.-27-Muž  \n",
            "4998              28903-MONETA Money Bank, a.s.-20-Žena  \n",
            "4999              74253-MONETA Money Bank, a.s.-51-Žena  \n",
            "\n",
            "[5000 rows x 15 columns]\n"
          ]
        },
        {
          "output_type": "execute_result",
          "data": {
            "text/plain": [
              "(5000, 15)"
            ]
          },
          "metadata": {},
          "execution_count": 73
        }
      ]
    },
    {
      "cell_type": "code",
      "source": [
        "# Create ratio of sum of targets over count of unique customers and group this by bank\n",
        "df['TargetRate'] = df.sum('TARGET').astype(float)/df.count('UniqueID').astype(float)"
      ],
      "metadata": {
        "colab": {
          "base_uri": "https://localhost:8080/",
          "height": 408
        },
        "id": "0NTR0IMAHtqu",
        "outputId": "4ea5d16c-b2ff-4ab9-ff38-f4c2b2589604"
      },
      "execution_count": null,
      "outputs": [
        {
          "output_type": "error",
          "ename": "ValueError",
          "evalue": "No axis named TARGET for object type DataFrame",
          "traceback": [
            "\u001b[0;31m---------------------------------------------------------------------------\u001b[0m",
            "\u001b[0;31mKeyError\u001b[0m                                  Traceback (most recent call last)",
            "\u001b[0;32m/usr/local/lib/python3.11/dist-packages/pandas/core/generic.py\u001b[0m in \u001b[0;36m_get_axis_number\u001b[0;34m(cls, axis)\u001b[0m\n\u001b[1;32m    575\u001b[0m         \u001b[0;32mtry\u001b[0m\u001b[0;34m:\u001b[0m\u001b[0;34m\u001b[0m\u001b[0;34m\u001b[0m\u001b[0m\n\u001b[0;32m--> 576\u001b[0;31m             \u001b[0;32mreturn\u001b[0m \u001b[0mcls\u001b[0m\u001b[0;34m.\u001b[0m\u001b[0m_AXIS_TO_AXIS_NUMBER\u001b[0m\u001b[0;34m[\u001b[0m\u001b[0maxis\u001b[0m\u001b[0;34m]\u001b[0m\u001b[0;34m\u001b[0m\u001b[0;34m\u001b[0m\u001b[0m\n\u001b[0m\u001b[1;32m    577\u001b[0m         \u001b[0;32mexcept\u001b[0m \u001b[0mKeyError\u001b[0m\u001b[0;34m:\u001b[0m\u001b[0;34m\u001b[0m\u001b[0;34m\u001b[0m\u001b[0m\n",
            "\u001b[0;31mKeyError\u001b[0m: 'TARGET'",
            "\nDuring handling of the above exception, another exception occurred:\n",
            "\u001b[0;31mValueError\u001b[0m                                Traceback (most recent call last)",
            "\u001b[0;32m/tmp/ipython-input-3424625304.py\u001b[0m in \u001b[0;36m<cell line: 0>\u001b[0;34m()\u001b[0m\n\u001b[1;32m      1\u001b[0m \u001b[0;31m# Create ratio of sum of targets over count of unique customers and group this by bank\u001b[0m\u001b[0;34m\u001b[0m\u001b[0;34m\u001b[0m\u001b[0m\n\u001b[0;32m----> 2\u001b[0;31m \u001b[0mdf\u001b[0m\u001b[0;34m[\u001b[0m\u001b[0;34m'TargetRate'\u001b[0m\u001b[0;34m]\u001b[0m \u001b[0;34m=\u001b[0m \u001b[0mdf\u001b[0m\u001b[0;34m.\u001b[0m\u001b[0msum\u001b[0m\u001b[0;34m(\u001b[0m\u001b[0;34m'TARGET'\u001b[0m\u001b[0;34m)\u001b[0m\u001b[0;34m.\u001b[0m\u001b[0mastype\u001b[0m\u001b[0;34m(\u001b[0m\u001b[0mfloat\u001b[0m\u001b[0;34m)\u001b[0m\u001b[0;34m/\u001b[0m\u001b[0mdf\u001b[0m\u001b[0;34m.\u001b[0m\u001b[0mcount\u001b[0m\u001b[0;34m(\u001b[0m\u001b[0;34m'UniqueID'\u001b[0m\u001b[0;34m)\u001b[0m\u001b[0;34m.\u001b[0m\u001b[0mastype\u001b[0m\u001b[0;34m(\u001b[0m\u001b[0mfloat\u001b[0m\u001b[0;34m)\u001b[0m\u001b[0;34m\u001b[0m\u001b[0;34m\u001b[0m\u001b[0m\n\u001b[0m",
            "\u001b[0;32m/usr/local/lib/python3.11/dist-packages/pandas/core/frame.py\u001b[0m in \u001b[0;36msum\u001b[0;34m(self, axis, skipna, numeric_only, min_count, **kwargs)\u001b[0m\n\u001b[1;32m  11668\u001b[0m         \u001b[0;34m**\u001b[0m\u001b[0mkwargs\u001b[0m\u001b[0;34m,\u001b[0m\u001b[0;34m\u001b[0m\u001b[0;34m\u001b[0m\u001b[0m\n\u001b[1;32m  11669\u001b[0m     ):\n\u001b[0;32m> 11670\u001b[0;31m         \u001b[0mresult\u001b[0m \u001b[0;34m=\u001b[0m \u001b[0msuper\u001b[0m\u001b[0;34m(\u001b[0m\u001b[0;34m)\u001b[0m\u001b[0;34m.\u001b[0m\u001b[0msum\u001b[0m\u001b[0;34m(\u001b[0m\u001b[0maxis\u001b[0m\u001b[0;34m,\u001b[0m \u001b[0mskipna\u001b[0m\u001b[0;34m,\u001b[0m \u001b[0mnumeric_only\u001b[0m\u001b[0;34m,\u001b[0m \u001b[0mmin_count\u001b[0m\u001b[0;34m,\u001b[0m \u001b[0;34m**\u001b[0m\u001b[0mkwargs\u001b[0m\u001b[0;34m)\u001b[0m\u001b[0;34m\u001b[0m\u001b[0;34m\u001b[0m\u001b[0m\n\u001b[0m\u001b[1;32m  11671\u001b[0m         \u001b[0;32mreturn\u001b[0m \u001b[0mresult\u001b[0m\u001b[0;34m.\u001b[0m\u001b[0m__finalize__\u001b[0m\u001b[0;34m(\u001b[0m\u001b[0mself\u001b[0m\u001b[0;34m,\u001b[0m \u001b[0mmethod\u001b[0m\u001b[0;34m=\u001b[0m\u001b[0;34m\"sum\"\u001b[0m\u001b[0;34m)\u001b[0m\u001b[0;34m\u001b[0m\u001b[0;34m\u001b[0m\u001b[0m\n\u001b[1;32m  11672\u001b[0m \u001b[0;34m\u001b[0m\u001b[0m\n",
            "\u001b[0;32m/usr/local/lib/python3.11/dist-packages/pandas/core/generic.py\u001b[0m in \u001b[0;36msum\u001b[0;34m(self, axis, skipna, numeric_only, min_count, **kwargs)\u001b[0m\n\u001b[1;32m  12504\u001b[0m         \u001b[0;34m**\u001b[0m\u001b[0mkwargs\u001b[0m\u001b[0;34m,\u001b[0m\u001b[0;34m\u001b[0m\u001b[0;34m\u001b[0m\u001b[0m\n\u001b[1;32m  12505\u001b[0m     ):\n\u001b[0;32m> 12506\u001b[0;31m         return self._min_count_stat_function(\n\u001b[0m\u001b[1;32m  12507\u001b[0m             \u001b[0;34m\"sum\"\u001b[0m\u001b[0;34m,\u001b[0m \u001b[0mnanops\u001b[0m\u001b[0;34m.\u001b[0m\u001b[0mnansum\u001b[0m\u001b[0;34m,\u001b[0m \u001b[0maxis\u001b[0m\u001b[0;34m,\u001b[0m \u001b[0mskipna\u001b[0m\u001b[0;34m,\u001b[0m \u001b[0mnumeric_only\u001b[0m\u001b[0;34m,\u001b[0m \u001b[0mmin_count\u001b[0m\u001b[0;34m,\u001b[0m \u001b[0;34m**\u001b[0m\u001b[0mkwargs\u001b[0m\u001b[0;34m\u001b[0m\u001b[0;34m\u001b[0m\u001b[0m\n\u001b[1;32m  12508\u001b[0m         )\n",
            "\u001b[0;32m/usr/local/lib/python3.11/dist-packages/pandas/core/generic.py\u001b[0m in \u001b[0;36m_min_count_stat_function\u001b[0;34m(self, name, func, axis, skipna, numeric_only, min_count, **kwargs)\u001b[0m\n\u001b[1;32m  12487\u001b[0m             \u001b[0maxis\u001b[0m \u001b[0;34m=\u001b[0m \u001b[0;36m0\u001b[0m\u001b[0;34m\u001b[0m\u001b[0;34m\u001b[0m\u001b[0m\n\u001b[1;32m  12488\u001b[0m \u001b[0;34m\u001b[0m\u001b[0m\n\u001b[0;32m> 12489\u001b[0;31m         return self._reduce(\n\u001b[0m\u001b[1;32m  12490\u001b[0m             \u001b[0mfunc\u001b[0m\u001b[0;34m,\u001b[0m\u001b[0;34m\u001b[0m\u001b[0;34m\u001b[0m\u001b[0m\n\u001b[1;32m  12491\u001b[0m             \u001b[0mname\u001b[0m\u001b[0;34m=\u001b[0m\u001b[0mname\u001b[0m\u001b[0;34m,\u001b[0m\u001b[0;34m\u001b[0m\u001b[0;34m\u001b[0m\u001b[0m\n",
            "\u001b[0;32m/usr/local/lib/python3.11/dist-packages/pandas/core/frame.py\u001b[0m in \u001b[0;36m_reduce\u001b[0;34m(self, op, name, axis, skipna, numeric_only, filter_type, **kwds)\u001b[0m\n\u001b[1;32m  11448\u001b[0m \u001b[0;34m\u001b[0m\u001b[0m\n\u001b[1;32m  11449\u001b[0m         \u001b[0;32mif\u001b[0m \u001b[0maxis\u001b[0m \u001b[0;32mis\u001b[0m \u001b[0;32mnot\u001b[0m \u001b[0;32mNone\u001b[0m\u001b[0;34m:\u001b[0m\u001b[0;34m\u001b[0m\u001b[0;34m\u001b[0m\u001b[0m\n\u001b[0;32m> 11450\u001b[0;31m             \u001b[0maxis\u001b[0m \u001b[0;34m=\u001b[0m \u001b[0mself\u001b[0m\u001b[0;34m.\u001b[0m\u001b[0m_get_axis_number\u001b[0m\u001b[0;34m(\u001b[0m\u001b[0maxis\u001b[0m\u001b[0;34m)\u001b[0m\u001b[0;34m\u001b[0m\u001b[0;34m\u001b[0m\u001b[0m\n\u001b[0m\u001b[1;32m  11451\u001b[0m \u001b[0;34m\u001b[0m\u001b[0m\n\u001b[1;32m  11452\u001b[0m         \u001b[0;32mdef\u001b[0m \u001b[0mfunc\u001b[0m\u001b[0;34m(\u001b[0m\u001b[0mvalues\u001b[0m\u001b[0;34m:\u001b[0m \u001b[0mnp\u001b[0m\u001b[0;34m.\u001b[0m\u001b[0mndarray\u001b[0m\u001b[0;34m)\u001b[0m\u001b[0;34m:\u001b[0m\u001b[0;34m\u001b[0m\u001b[0;34m\u001b[0m\u001b[0m\n",
            "\u001b[0;32m/usr/local/lib/python3.11/dist-packages/pandas/core/generic.py\u001b[0m in \u001b[0;36m_get_axis_number\u001b[0;34m(cls, axis)\u001b[0m\n\u001b[1;32m    576\u001b[0m             \u001b[0;32mreturn\u001b[0m \u001b[0mcls\u001b[0m\u001b[0;34m.\u001b[0m\u001b[0m_AXIS_TO_AXIS_NUMBER\u001b[0m\u001b[0;34m[\u001b[0m\u001b[0maxis\u001b[0m\u001b[0;34m]\u001b[0m\u001b[0;34m\u001b[0m\u001b[0;34m\u001b[0m\u001b[0m\n\u001b[1;32m    577\u001b[0m         \u001b[0;32mexcept\u001b[0m \u001b[0mKeyError\u001b[0m\u001b[0;34m:\u001b[0m\u001b[0;34m\u001b[0m\u001b[0;34m\u001b[0m\u001b[0m\n\u001b[0;32m--> 578\u001b[0;31m             \u001b[0;32mraise\u001b[0m \u001b[0mValueError\u001b[0m\u001b[0;34m(\u001b[0m\u001b[0;34mf\"No axis named {axis} for object type {cls.__name__}\"\u001b[0m\u001b[0;34m)\u001b[0m\u001b[0;34m\u001b[0m\u001b[0;34m\u001b[0m\u001b[0m\n\u001b[0m\u001b[1;32m    579\u001b[0m \u001b[0;34m\u001b[0m\u001b[0m\n\u001b[1;32m    580\u001b[0m     \u001b[0;34m@\u001b[0m\u001b[0mfinal\u001b[0m\u001b[0;34m\u001b[0m\u001b[0;34m\u001b[0m\u001b[0m\n",
            "\u001b[0;31mValueError\u001b[0m: No axis named TARGET for object type DataFrame"
          ]
        }
      ]
    },
    {
      "cell_type": "code",
      "source": [
        "Bank_Targets = df.sum('TARGET')/df.count('UniqueID')\n",
        "\n",
        "print(Bank_Targets)"
      ],
      "metadata": {
        "colab": {
          "base_uri": "https://localhost:8080/",
          "height": 408
        },
        "id": "du37iYxTg0D4",
        "outputId": "c3ed1662-003e-4671-f55b-42065a93db8d"
      },
      "execution_count": null,
      "outputs": [
        {
          "output_type": "error",
          "ename": "ValueError",
          "evalue": "No axis named TARGET for object type DataFrame",
          "traceback": [
            "\u001b[0;31m---------------------------------------------------------------------------\u001b[0m",
            "\u001b[0;31mKeyError\u001b[0m                                  Traceback (most recent call last)",
            "\u001b[0;32m/usr/local/lib/python3.11/dist-packages/pandas/core/generic.py\u001b[0m in \u001b[0;36m_get_axis_number\u001b[0;34m(cls, axis)\u001b[0m\n\u001b[1;32m    575\u001b[0m         \u001b[0;32mtry\u001b[0m\u001b[0;34m:\u001b[0m\u001b[0;34m\u001b[0m\u001b[0;34m\u001b[0m\u001b[0m\n\u001b[0;32m--> 576\u001b[0;31m             \u001b[0;32mreturn\u001b[0m \u001b[0mcls\u001b[0m\u001b[0;34m.\u001b[0m\u001b[0m_AXIS_TO_AXIS_NUMBER\u001b[0m\u001b[0;34m[\u001b[0m\u001b[0maxis\u001b[0m\u001b[0;34m]\u001b[0m\u001b[0;34m\u001b[0m\u001b[0;34m\u001b[0m\u001b[0m\n\u001b[0m\u001b[1;32m    577\u001b[0m         \u001b[0;32mexcept\u001b[0m \u001b[0mKeyError\u001b[0m\u001b[0;34m:\u001b[0m\u001b[0;34m\u001b[0m\u001b[0;34m\u001b[0m\u001b[0m\n",
            "\u001b[0;31mKeyError\u001b[0m: 'TARGET'",
            "\nDuring handling of the above exception, another exception occurred:\n",
            "\u001b[0;31mValueError\u001b[0m                                Traceback (most recent call last)",
            "\u001b[0;32m/tmp/ipython-input-2282477922.py\u001b[0m in \u001b[0;36m<cell line: 0>\u001b[0;34m()\u001b[0m\n\u001b[0;32m----> 1\u001b[0;31m \u001b[0mBank_Targets\u001b[0m \u001b[0;34m=\u001b[0m \u001b[0mdf\u001b[0m\u001b[0;34m.\u001b[0m\u001b[0msum\u001b[0m\u001b[0;34m(\u001b[0m\u001b[0;34m'TARGET'\u001b[0m\u001b[0;34m)\u001b[0m\u001b[0;34m/\u001b[0m\u001b[0mdf\u001b[0m\u001b[0;34m.\u001b[0m\u001b[0mcount\u001b[0m\u001b[0;34m(\u001b[0m\u001b[0;34m'UniqueID'\u001b[0m\u001b[0;34m)\u001b[0m\u001b[0;34m\u001b[0m\u001b[0;34m\u001b[0m\u001b[0m\n\u001b[0m\u001b[1;32m      2\u001b[0m \u001b[0;34m\u001b[0m\u001b[0m\n\u001b[1;32m      3\u001b[0m \u001b[0mprint\u001b[0m\u001b[0;34m(\u001b[0m\u001b[0mBank_Targets\u001b[0m\u001b[0;34m)\u001b[0m\u001b[0;34m\u001b[0m\u001b[0;34m\u001b[0m\u001b[0m\n",
            "\u001b[0;32m/usr/local/lib/python3.11/dist-packages/pandas/core/frame.py\u001b[0m in \u001b[0;36msum\u001b[0;34m(self, axis, skipna, numeric_only, min_count, **kwargs)\u001b[0m\n\u001b[1;32m  11668\u001b[0m         \u001b[0;34m**\u001b[0m\u001b[0mkwargs\u001b[0m\u001b[0;34m,\u001b[0m\u001b[0;34m\u001b[0m\u001b[0;34m\u001b[0m\u001b[0m\n\u001b[1;32m  11669\u001b[0m     ):\n\u001b[0;32m> 11670\u001b[0;31m         \u001b[0mresult\u001b[0m \u001b[0;34m=\u001b[0m \u001b[0msuper\u001b[0m\u001b[0;34m(\u001b[0m\u001b[0;34m)\u001b[0m\u001b[0;34m.\u001b[0m\u001b[0msum\u001b[0m\u001b[0;34m(\u001b[0m\u001b[0maxis\u001b[0m\u001b[0;34m,\u001b[0m \u001b[0mskipna\u001b[0m\u001b[0;34m,\u001b[0m \u001b[0mnumeric_only\u001b[0m\u001b[0;34m,\u001b[0m \u001b[0mmin_count\u001b[0m\u001b[0;34m,\u001b[0m \u001b[0;34m**\u001b[0m\u001b[0mkwargs\u001b[0m\u001b[0;34m)\u001b[0m\u001b[0;34m\u001b[0m\u001b[0;34m\u001b[0m\u001b[0m\n\u001b[0m\u001b[1;32m  11671\u001b[0m         \u001b[0;32mreturn\u001b[0m \u001b[0mresult\u001b[0m\u001b[0;34m.\u001b[0m\u001b[0m__finalize__\u001b[0m\u001b[0;34m(\u001b[0m\u001b[0mself\u001b[0m\u001b[0;34m,\u001b[0m \u001b[0mmethod\u001b[0m\u001b[0;34m=\u001b[0m\u001b[0;34m\"sum\"\u001b[0m\u001b[0;34m)\u001b[0m\u001b[0;34m\u001b[0m\u001b[0;34m\u001b[0m\u001b[0m\n\u001b[1;32m  11672\u001b[0m \u001b[0;34m\u001b[0m\u001b[0m\n",
            "\u001b[0;32m/usr/local/lib/python3.11/dist-packages/pandas/core/generic.py\u001b[0m in \u001b[0;36msum\u001b[0;34m(self, axis, skipna, numeric_only, min_count, **kwargs)\u001b[0m\n\u001b[1;32m  12504\u001b[0m         \u001b[0;34m**\u001b[0m\u001b[0mkwargs\u001b[0m\u001b[0;34m,\u001b[0m\u001b[0;34m\u001b[0m\u001b[0;34m\u001b[0m\u001b[0m\n\u001b[1;32m  12505\u001b[0m     ):\n\u001b[0;32m> 12506\u001b[0;31m         return self._min_count_stat_function(\n\u001b[0m\u001b[1;32m  12507\u001b[0m             \u001b[0;34m\"sum\"\u001b[0m\u001b[0;34m,\u001b[0m \u001b[0mnanops\u001b[0m\u001b[0;34m.\u001b[0m\u001b[0mnansum\u001b[0m\u001b[0;34m,\u001b[0m \u001b[0maxis\u001b[0m\u001b[0;34m,\u001b[0m \u001b[0mskipna\u001b[0m\u001b[0;34m,\u001b[0m \u001b[0mnumeric_only\u001b[0m\u001b[0;34m,\u001b[0m \u001b[0mmin_count\u001b[0m\u001b[0;34m,\u001b[0m \u001b[0;34m**\u001b[0m\u001b[0mkwargs\u001b[0m\u001b[0;34m\u001b[0m\u001b[0;34m\u001b[0m\u001b[0m\n\u001b[1;32m  12508\u001b[0m         )\n",
            "\u001b[0;32m/usr/local/lib/python3.11/dist-packages/pandas/core/generic.py\u001b[0m in \u001b[0;36m_min_count_stat_function\u001b[0;34m(self, name, func, axis, skipna, numeric_only, min_count, **kwargs)\u001b[0m\n\u001b[1;32m  12487\u001b[0m             \u001b[0maxis\u001b[0m \u001b[0;34m=\u001b[0m \u001b[0;36m0\u001b[0m\u001b[0;34m\u001b[0m\u001b[0;34m\u001b[0m\u001b[0m\n\u001b[1;32m  12488\u001b[0m \u001b[0;34m\u001b[0m\u001b[0m\n\u001b[0;32m> 12489\u001b[0;31m         return self._reduce(\n\u001b[0m\u001b[1;32m  12490\u001b[0m             \u001b[0mfunc\u001b[0m\u001b[0;34m,\u001b[0m\u001b[0;34m\u001b[0m\u001b[0;34m\u001b[0m\u001b[0m\n\u001b[1;32m  12491\u001b[0m             \u001b[0mname\u001b[0m\u001b[0;34m=\u001b[0m\u001b[0mname\u001b[0m\u001b[0;34m,\u001b[0m\u001b[0;34m\u001b[0m\u001b[0;34m\u001b[0m\u001b[0m\n",
            "\u001b[0;32m/usr/local/lib/python3.11/dist-packages/pandas/core/frame.py\u001b[0m in \u001b[0;36m_reduce\u001b[0;34m(self, op, name, axis, skipna, numeric_only, filter_type, **kwds)\u001b[0m\n\u001b[1;32m  11448\u001b[0m \u001b[0;34m\u001b[0m\u001b[0m\n\u001b[1;32m  11449\u001b[0m         \u001b[0;32mif\u001b[0m \u001b[0maxis\u001b[0m \u001b[0;32mis\u001b[0m \u001b[0;32mnot\u001b[0m \u001b[0;32mNone\u001b[0m\u001b[0;34m:\u001b[0m\u001b[0;34m\u001b[0m\u001b[0;34m\u001b[0m\u001b[0m\n\u001b[0;32m> 11450\u001b[0;31m             \u001b[0maxis\u001b[0m \u001b[0;34m=\u001b[0m \u001b[0mself\u001b[0m\u001b[0;34m.\u001b[0m\u001b[0m_get_axis_number\u001b[0m\u001b[0;34m(\u001b[0m\u001b[0maxis\u001b[0m\u001b[0;34m)\u001b[0m\u001b[0;34m\u001b[0m\u001b[0;34m\u001b[0m\u001b[0m\n\u001b[0m\u001b[1;32m  11451\u001b[0m \u001b[0;34m\u001b[0m\u001b[0m\n\u001b[1;32m  11452\u001b[0m         \u001b[0;32mdef\u001b[0m \u001b[0mfunc\u001b[0m\u001b[0;34m(\u001b[0m\u001b[0mvalues\u001b[0m\u001b[0;34m:\u001b[0m \u001b[0mnp\u001b[0m\u001b[0;34m.\u001b[0m\u001b[0mndarray\u001b[0m\u001b[0;34m)\u001b[0m\u001b[0;34m:\u001b[0m\u001b[0;34m\u001b[0m\u001b[0;34m\u001b[0m\u001b[0m\n",
            "\u001b[0;32m/usr/local/lib/python3.11/dist-packages/pandas/core/generic.py\u001b[0m in \u001b[0;36m_get_axis_number\u001b[0;34m(cls, axis)\u001b[0m\n\u001b[1;32m    576\u001b[0m             \u001b[0;32mreturn\u001b[0m \u001b[0mcls\u001b[0m\u001b[0;34m.\u001b[0m\u001b[0m_AXIS_TO_AXIS_NUMBER\u001b[0m\u001b[0;34m[\u001b[0m\u001b[0maxis\u001b[0m\u001b[0;34m]\u001b[0m\u001b[0;34m\u001b[0m\u001b[0;34m\u001b[0m\u001b[0m\n\u001b[1;32m    577\u001b[0m         \u001b[0;32mexcept\u001b[0m \u001b[0mKeyError\u001b[0m\u001b[0;34m:\u001b[0m\u001b[0;34m\u001b[0m\u001b[0;34m\u001b[0m\u001b[0m\n\u001b[0;32m--> 578\u001b[0;31m             \u001b[0;32mraise\u001b[0m \u001b[0mValueError\u001b[0m\u001b[0;34m(\u001b[0m\u001b[0;34mf\"No axis named {axis} for object type {cls.__name__}\"\u001b[0m\u001b[0;34m)\u001b[0m\u001b[0;34m\u001b[0m\u001b[0;34m\u001b[0m\u001b[0m\n\u001b[0m\u001b[1;32m    579\u001b[0m \u001b[0;34m\u001b[0m\u001b[0m\n\u001b[1;32m    580\u001b[0m     \u001b[0;34m@\u001b[0m\u001b[0mfinal\u001b[0m\u001b[0;34m\u001b[0m\u001b[0;34m\u001b[0m\u001b[0m\n",
            "\u001b[0;31mValueError\u001b[0m: No axis named TARGET for object type DataFrame"
          ]
        }
      ]
    },
    {
      "cell_type": "markdown",
      "source": [
        "Česká spořitelna má nejvyšší Target (142), ale Target rate je"
      ],
      "metadata": {
        "id": "IEiBto_pilUs"
      }
    },
    {
      "cell_type": "markdown",
      "source": [
        "***6. Pokuste se vytvořit vhodné věkové kategorie pro zkoumání target rate.***"
      ],
      "metadata": {
        "id": "kh1fH211iwrz"
      }
    },
    {
      "cell_type": "code",
      "source": [
        "df_age_target = pd.DataFrame(df, columns=['AgeCategory','CODE_ZIP','TARGET'])"
      ],
      "metadata": {
        "id": "1NfzblI6mtaj"
      },
      "execution_count": null,
      "outputs": []
    },
    {
      "cell_type": "code",
      "source": [
        "df_age_target2 = pd.DataFrame(df, columns=['AgeCategory','TARGET'])"
      ],
      "metadata": {
        "id": "IkWTs8GcpqY3"
      },
      "execution_count": null,
      "outputs": []
    },
    {
      "cell_type": "code",
      "source": [
        "print(df_age_target2)"
      ],
      "metadata": {
        "colab": {
          "base_uri": "https://localhost:8080/"
        },
        "id": "7tgFJ7n2nUZT",
        "outputId": "4b00df83-9540-49ed-c27b-5da60a8579bf"
      },
      "execution_count": null,
      "outputs": [
        {
          "output_type": "stream",
          "name": "stdout",
          "text": [
            "     AgeCategory  TARGET\n",
            "0          29-38       0\n",
            "1          49-58       0\n",
            "2          29-38       0\n",
            "3          18-28       0\n",
            "4          29-38       0\n",
            "...          ...     ...\n",
            "4995       18-28       0\n",
            "4996       18-28       0\n",
            "4997       18-28       0\n",
            "4998       18-28       0\n",
            "4999       49-58       0\n",
            "\n",
            "[5000 rows x 2 columns]\n"
          ]
        }
      ]
    },
    {
      "cell_type": "code",
      "source": [
        "print(df_age_target2)\n",
        "histogram = plt.hist(df_age_target2, label='AgeCategory')\n",
        "print(histogram)"
      ],
      "metadata": {
        "colab": {
          "base_uri": "https://localhost:8080/",
          "height": 762
        },
        "id": "meObBSRWpuRY",
        "outputId": "4540392e-1467-4fb7-fdd6-520ee615ed95"
      },
      "execution_count": null,
      "outputs": [
        {
          "output_type": "stream",
          "name": "stdout",
          "text": [
            "     AgeCategory  TARGET\n",
            "0          29-38       0\n",
            "1          49-58       0\n",
            "2          29-38       0\n",
            "3          18-28       0\n",
            "4          29-38       0\n",
            "...          ...     ...\n",
            "4995       18-28       0\n",
            "4996       18-28       0\n",
            "4997       18-28       0\n",
            "4998       18-28       0\n",
            "4999       49-58       0\n",
            "\n",
            "[5000 rows x 2 columns]\n",
            "(array([[1.242e+03, 2.350e+02, 0.000e+00, 2.754e+03, 0.000e+00, 6.240e+02,\n",
            "        9.800e+01, 0.000e+00, 4.400e+01, 3.000e+00],\n",
            "       [4.503e+03, 4.970e+02, 0.000e+00, 0.000e+00, 0.000e+00, 0.000e+00,\n",
            "        0.000e+00, 0.000e+00, 0.000e+00, 0.000e+00]]), array([0. , 0.6, 1.2, 1.8, 2.4, 3. , 3.6, 4.2, 4.8, 5.4, 6. ]), <a list of 2 BarContainer objects>)\n"
          ]
        },
        {
          "output_type": "display_data",
          "data": {
            "text/plain": [
              "<Figure size 640x480 with 1 Axes>"
            ],
            "image/png": "[encoded data removed]"
          },
          "metadata": {}
        }
      ]
    },
    {
      "cell_type": "code",
      "source": [
        "plt.hist(df_age_target2, bins=5, edgecolor='black')  # 5 bins\n",
        "plt.title('Age Distribution')\n",
        "\n",
        "plt.xlabel('AgeCategory')\n",
        "plt.ylabel('Frequency')\n",
        "plt.show()"
      ],
      "metadata": {
        "colab": {
          "base_uri": "https://localhost:8080/",
          "height": 527
        },
        "id": "_llpAFPdouw8",
        "outputId": "ac78a37e-b58c-40ac-9d47-fdf0b9cc9584"
      },
      "execution_count": null,
      "outputs": [
        {
          "output_type": "stream",
          "name": "stderr",
          "text": [
            "/tmp/ipython-input-2028745039.py:3: UserWarning: No artists with labels found to put in legend.  Note that artists whose label start with an underscore are ignored when legend() is called with no argument.\n",
            "  plt.legend()\n"
          ]
        },
        {
          "output_type": "display_data",
          "data": {
            "text/plain": [
              "<Figure size 640x480 with 1 Axes>"
            ],
            "image/png": "[encoded data removed]"
          },
          "metadata": {}
        }
      ]
    }
  ]
}